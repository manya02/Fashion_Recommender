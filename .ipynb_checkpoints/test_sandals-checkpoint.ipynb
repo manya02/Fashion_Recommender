{
 "cells": [
  {
   "cell_type": "code",
   "execution_count": 1,
   "id": "e5cf38e4",
   "metadata": {},
   "outputs": [],
   "source": [
    "import tensorflow \n",
    "from tensorflow.keras.preprocessing import image\n",
    "from tensorflow.keras.layers import GlobalMaxPooling2D\n",
    "from tensorflow.keras.applications.resnet50 import ResNet50, preprocess_input\n",
    "import pickle"
   ]
  },
  {
   "cell_type": "code",
   "execution_count": 2,
   "id": "beadd3cb",
   "metadata": {},
   "outputs": [],
   "source": [
    "import numpy as np\n",
    "from numpy.linalg import norm\n",
    "from sklearn.neighbors import NearestNeighbors\n",
    "import cv2"
   ]
  },
  {
   "cell_type": "code",
   "execution_count": 3,
   "id": "50dbb652",
   "metadata": {},
   "outputs": [],
   "source": [
    "features_list = pickle.load(open('feature_details.pkl','rb'))\n",
    "filenames = pickle.load(open('filenames.pkl','rb'))"
   ]
  },
  {
   "cell_type": "code",
   "execution_count": 4,
   "id": "3c8aaa5f",
   "metadata": {},
   "outputs": [],
   "source": [
    "model = ResNet50(weights = 'imagenet',include_top=False, input_shape= (224,224,3))\n",
    "model.trianable=False\n",
    "model = tensorflow.keras.Sequential([\n",
    "    model,\n",
    "    GlobalMaxPooling2D()\n",
    "])"
   ]
  },
  {
   "cell_type": "code",
   "execution_count": 5,
   "id": "a2bd9bd4",
   "metadata": {},
   "outputs": [],
   "source": [
    "img = image.load_img('samples/top.jpg', target_size = (224,224))\n",
    "img_array = image.img_to_array(img)\n",
    "expanded_img_array = np.expand_dims(img_array, axis = 0)\n",
    "preprocessed_img = preprocess_input(expanded_img_array)\n",
    "result = model.predict(preprocessed_img).flatten()\n",
    "normal_result = result/norm(result)\n",
    "    "
   ]
  },
  {
   "cell_type": "code",
   "execution_count": 6,
   "id": "7676ccaf",
   "metadata": {},
   "outputs": [
    {
     "data": {
      "text/plain": [
       "NearestNeighbors(algorithm='brute', metric='euclidean', n_neighbors=6)"
      ]
     },
     "execution_count": 6,
     "metadata": {},
     "output_type": "execute_result"
    }
   ],
   "source": [
    "neighbors = NearestNeighbors(n_neighbors = 6 , algorithm = 'brute', metric = 'euclidean')\n",
    "neighbors.fit(features_list)"
   ]
  },
  {
   "cell_type": "code",
   "execution_count": 7,
   "id": "ca11a83d",
   "metadata": {},
   "outputs": [],
   "source": [
    "distences , indices = neighbors.kneighbors([normal_result])"
   ]
  },
  {
   "cell_type": "code",
   "execution_count": 8,
   "id": "b5c4cf2a",
   "metadata": {},
   "outputs": [
    {
     "name": "stdout",
     "output_type": "stream",
     "text": [
      "[[ 4712  4769 44084 16437 10948  9927]]\n"
     ]
    }
   ],
   "source": [
    "print(indices)"
   ]
  },
  {
   "cell_type": "code",
   "execution_count": 9,
   "id": "ecfc0177",
   "metadata": {},
   "outputs": [],
   "source": [
    "for file in indices[0][1:6]:\n",
    "    temp_img = cv2.imread(filenames[file])\n",
    "    cv2.imshow('output',cv2.resize(temp_img,(100,100)))\n",
    "    cv2.waitKey(0)"
   ]
  },
  {
   "cell_type": "code",
   "execution_count": 10,
   "id": "aac34d02",
   "metadata": {},
   "outputs": [],
   "source": [
    "features_list_sandals = pim,/;\" ckle.load(open('feature_details_sandals.pkl','rb'))\n",
    "filenames_sandals = pickle.load(open('filenames_sandals.pkl','rb'))"
   ]
  },
  {
   "cell_type": "code",
   "execution_count": 11,
   "id": "a602c99d",
   "metadata": {},
   "outputs": [
    {
     "data": {
      "text/plain": [
       "NearestNeighbors(algorithm='brute', metric='euclidean', n_neighbors=2)"
      ]
     },
     "execution_count": 11,
     "metadata": {},
     "output_type": "execute_result"
    }
   ],
   "source": [
    "neighbors_sandals = NearestNeighbors(n_neighbors = 2, algorithm = 'brute', metric = 'euclidean')\n",
    "neighbors_sandals.fit(features_list_sandals)"
   ]
  },
  {
   "cell_type": "code",
   "execution_count": 12,
   "id": "76b85977",
   "metadata": {},
   "outputs": [],
   "source": [
    "distences , indices = neighbors_sandals.kneighbors([normal_result])"
   ]
  },
  {
   "cell_type": "code",
   "execution_count": 13,
   "id": "b21b0f81",
   "metadata": {},
   "outputs": [
    {
     "name": "stdout",
     "output_type": "stream",
     "text": [
      "[[ 51 159]]\n"
     ]
    }
   ],
   "source": [
    "print(indices)"
   ]
  },
  {
   "cell_type": "code",
   "execution_count": 14,
   "id": "c0447d8a",
   "metadata": {},
   "outputs": [],
   "source": [
    "for file in indices[0][1:2]:\n",
    "    temp_img = cv2.imread(filenames_sandals[file])\n",
    "    cv2.imshow('output',cv2.resize(temp_img,(100,100)))\n",
    "    cv2.waitKey(0)"
   ]
  },
  {
   "cell_type": "code",
   "execution_count": null,
   "id": "120e6ce3",
   "metadata": {},
   "outputs": [],
   "source": []
  }
 ],
 "metadata": {
  "kernelspec": {
   "display_name": "Python 3 (ipykernel)",
   "language": "python",
   "name": "python3"
  },
  "language_info": {
   "codemirror_mode": {
    "name": "ipython",
    "version": 3
   },
   "file_extension": ".py",
   "mimetype": "text/x-python",
   "name": "python",
   "nbconvert_exporter": "python",
   "pygments_lexer": "ipython3",
   "version": "3.9.7"
  }
 },
 "nbformat": 4,
 "nbformat_minor": 5
}
