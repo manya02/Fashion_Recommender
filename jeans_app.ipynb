{
 "cells": [
  {
   "cell_type": "code",
   "execution_count": 1,
   "id": "ab7ba401",
   "metadata": {},
   "outputs": [],
   "source": [
    "import tensorflow \n",
    "from tensorflow.keras.preprocessing import image\n",
    "from tensorflow.keras.layers import GlobalMaxPooling2D\n",
    "from tensorflow.keras.applications.resnet50 import ResNet50, preprocess_input"
   ]
  },
  {
   "cell_type": "code",
   "execution_count": 2,
   "id": "5111dfac",
   "metadata": {},
   "outputs": [],
   "source": [
    "import numpy as np\n",
    "from numpy.linalg import norm\n",
    "import os\n",
    "from tqdm import tqdm\n",
    "import pickle\n"
   ]
  },
  {
   "cell_type": "code",
   "execution_count": 3,
   "id": "6adaf162",
   "metadata": {},
   "outputs": [],
   "source": [
    "model = ResNet50(weights = 'imagenet',include_top=False, input_shape= (224,224,3))\n",
    "model.trianable=False\n",
    "model = tensorflow.keras.Sequential([\n",
    "    model,\n",
    "    GlobalMaxPooling2D()\n",
    "])"
   ]
  },
  {
   "cell_type": "code",
   "execution_count": 4,
   "id": "429cbf66",
   "metadata": {},
   "outputs": [],
   "source": [
    "def extract_features(img_path, model):\n",
    "    \n",
    "    img = image.load_img(img_path, target_size = (224,224))\n",
    "    img_array = image.img_to_array(img)\n",
    "    expanded_img_array = np.expand_dims(img_array, axis = 0)\n",
    "    preprocessed_img = preprocess_input(expanded_img_array)\n",
    "    result = model.predict(preprocessed_img).flatten()\n",
    "    normal_result = result/norm(result)\n",
    "    return normal_result\n",
    "    "
   ]
  },
  {
   "cell_type": "code",
   "execution_count": 5,
   "id": "c6e17acc",
   "metadata": {},
   "outputs": [],
   "source": [
    "fileNames_jeans = []\n",
    "for file in os.listdir('jeans'):\n",
    "    fileNames_jeans.append(os.path.join('jeans',file))"
   ]
  },
  {
   "cell_type": "code",
   "execution_count": 6,
   "id": "99d84651",
   "metadata": {},
   "outputs": [
    {
     "name": "stderr",
     "output_type": "stream",
     "text": [
      "100%|██████████████████████████████████████████████████████████████████████████████████| 86/86 [00:22<00:00,  3.88it/s]\n"
     ]
    }
   ],
   "source": [
    "feature_list_jeans = []\n",
    "for file in tqdm(fileNames_jeans):\n",
    "    \n",
    "    feature_list_jeans.append(extract_features(file,model))"
   ]
  },
  {
   "cell_type": "code",
   "execution_count": 7,
   "id": "047632ed",
   "metadata": {},
   "outputs": [],
   "source": [
    "pickle.dump(feature_list_jeans,open('feature_details_jeans.pkl','wb'))\n",
    "pickle.dump(fileNames_jeans,open('filenames_jeans.pkl','wb'))\n",
    "\n"
   ]
  },
  {
   "cell_type": "code",
   "execution_count": null,
   "id": "9cd18ac4",
   "metadata": {},
   "outputs": [],
   "source": []
  },
  {
   "cell_type": "code",
   "execution_count": null,
   "id": "16e81536",
   "metadata": {},
   "outputs": [],
   "source": []
  }
 ],
 "metadata": {
  "kernelspec": {
   "display_name": "Python 3 (ipykernel)",
   "language": "python",
   "name": "python3"
  },
  "language_info": {
   "codemirror_mode": {
    "name": "ipython",
    "version": 3
   },
   "file_extension": ".py",
   "mimetype": "text/x-python",
   "name": "python",
   "nbconvert_exporter": "python",
   "pygments_lexer": "ipython3",
   "version": "3.9.7"
  }
 },
 "nbformat": 4,
 "nbformat_minor": 5
}
