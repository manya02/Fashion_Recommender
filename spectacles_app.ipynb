{
 "cells": [
  {
   "cell_type": "code",
   "execution_count": 1,
   "id": "a208a518",
   "metadata": {},
   "outputs": [],
   "source": [
    "import tensorflow \n",
    "from tensorflow.keras.preprocessing import image\n",
    "from tensorflow.keras.layers import GlobalMaxPooling2D\n",
    "from tensorflow.keras.applications.resnet50 import ResNet50, preprocess_input"
   ]
  },
  {
   "cell_type": "code",
   "execution_count": 2,
   "id": "ba2a18bb",
   "metadata": {},
   "outputs": [],
   "source": [
    "import numpy as np\n",
    "from numpy.linalg import norm\n",
    "import os\n",
    "from tqdm import tqdm\n",
    "import pickle\n"
   ]
  },
  {
   "cell_type": "code",
   "execution_count": 3,
   "id": "09efff76",
   "metadata": {},
   "outputs": [],
   "source": [
    "model = ResNet50(weights = 'imagenet',include_top=False, input_shape= (224,224,3))\n",
    "model.trianable=False\n",
    "model = tensorflow.keras.Sequential([\n",
    "    model,\n",
    "    GlobalMaxPooling2D()\n",
    "])"
   ]
  },
  {
   "cell_type": "code",
   "execution_count": 4,
   "id": "9913c00c",
   "metadata": {},
   "outputs": [],
   "source": [
    "def extract_features(img_path, model):\n",
    "    \n",
    "    img = image.load_img(img_path, target_size = (224,224))\n",
    "    img_array = image.img_to_array(img)\n",
    "    expanded_img_array = np.expand_dims(img_array, axis = 0)\n",
    "    preprocessed_img = preprocess_input(expanded_img_array)\n",
    "    result = model.predict(preprocessed_img).flatten()\n",
    "    normal_result = result/norm(result)\n",
    "    return normal_result\n",
    "    "
   ]
  },
  {
   "cell_type": "code",
   "execution_count": 5,
   "id": "1df0011d",
   "metadata": {},
   "outputs": [],
   "source": [
    "fileNames_spec = []\n",
    "for file in os.listdir('spectacles'):\n",
    "    fileNames_spec.append(os.path.join('spectacles',file))"
   ]
  },
  {
   "cell_type": "code",
   "execution_count": 6,
   "id": "ef4a0cc7",
   "metadata": {},
   "outputs": [
    {
     "name": "stderr",
     "output_type": "stream",
     "text": [
      "100%|████████████████████████████████████████████████████████████████████████████████| 264/264 [01:05<00:00,  4.01it/s]\n"
     ]
    }
   ],
   "source": [
    "feature_list_spec = []\n",
    "for file in tqdm(fileNames_spec):\n",
    "    \n",
    "    feature_list_spec.append(extract_features(file,model))"
   ]
  },
  {
   "cell_type": "code",
   "execution_count": 7,
   "id": "8c30b750",
   "metadata": {},
   "outputs": [],
   "source": [
    "pickle.dump(feature_list_spec,open('feature_details_spec.pkl','wb'))\n",
    "pickle.dump(fileNames_spec,open('filenames_spec.pkl','wb'))\n",
    "\n"
   ]
  },
  {
   "cell_type": "code",
   "execution_count": null,
   "id": "9b15d94e",
   "metadata": {},
   "outputs": [],
   "source": []
  }
 ],
 "metadata": {
  "kernelspec": {
   "display_name": "Python 3 (ipykernel)",
   "language": "python",
   "name": "python3"
  },
  "language_info": {
   "codemirror_mode": {
    "name": "ipython",
    "version": 3
   },
   "file_extension": ".py",
   "mimetype": "text/x-python",
   "name": "python",
   "nbconvert_exporter": "python",
   "pygments_lexer": "ipython3",
   "version": "3.9.7"
  }
 },
 "nbformat": 4,
 "nbformat_minor": 5
}
