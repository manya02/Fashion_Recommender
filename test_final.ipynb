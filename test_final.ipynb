{
 "cells": [
  {
   "cell_type": "code",
   "execution_count": 1,
   "id": "0a1d27f0",
   "metadata": {},
   "outputs": [],
   "source": [
    "import tensorflow \n",
    "from tensorflow.keras.preprocessing import image\n",
    "from tensorflow.keras.layers import GlobalMaxPooling2D\n",
    "from tensorflow.keras.applications.resnet50 import ResNet50, preprocess_input\n",
    "import pickle"
   ]
  },
  {
   "cell_type": "code",
   "execution_count": 2,
   "id": "ef7dc3d2",
   "metadata": {},
   "outputs": [],
   "source": [
    "import numpy as np\n",
    "from numpy.linalg import norm\n",
    "from sklearn.neighbors import NearestNeighbors\n",
    "import cv2"
   ]
  },
  {
   "cell_type": "code",
   "execution_count": 3,
   "id": "2a35c450",
   "metadata": {},
   "outputs": [],
   "source": [
    "model = ResNet50(weights = 'imagenet',include_top=False, input_shape= (224,224,3))\n",
    "model.trianable=False\n",
    "model = tensorflow.keras.Sequential([\n",
    "    model,\n",
    "    GlobalMaxPooling2D()\n",
    "])"
   ]
  },
  {
   "cell_type": "code",
   "execution_count": 10,
   "id": "2b039833",
   "metadata": {},
   "outputs": [],
   "source": [
    "img = image.load_img('samples/top.jpg', target_size = (224,224))\n",
    "img_array = image.img_to_array(img)\n",
    "expanded_img_array = np.expand_dims(img_array, axis = 0)\n",
    "preprocessed_img = preprocess_input(expanded_img_array)\n",
    "result = model.predict(preprocessed_img).flatten()\n",
    "normal_result = result/norm(result)\n",
    "    "
   ]
  },
  {
   "cell_type": "code",
   "execution_count": 11,
   "id": "5fb47455",
   "metadata": {},
   "outputs": [],
   "source": [
    "\n",
    "def generate_img (details_file, names_file,n):\n",
    "    features_list = pickle.load(open(details_file, 'rb'))\n",
    "    filenames = pickle.load(open(names_file ,'rb'))\n",
    "\n",
    "    neighbors = NearestNeighbors(n_neighbors = n , algorithm = 'brute', metric = 'euclidean')\n",
    "    neighbors.fit(features_list)\n",
    "\n",
    "    distances , indices = neighbors.kneighbors([normal_result])\n",
    "    \n",
    "    for file in indices[0][1:len(indices[0])]:\n",
    "        temp_img = cv2.imread(filenames[file])\n",
    "        cv2.imshow('output',cv2.resize(temp_img,(100,100)))\n",
    "        cv2.waitKey(0)\n",
    "                                     \n",
    "                                     "
   ]
  },
  {
   "cell_type": "code",
   "execution_count": 12,
   "id": "acc55d94",
   "metadata": {},
   "outputs": [],
   "source": [
    "generate_img('feature_details.pkl','filenames.pkl',5)"
   ]
  },
  {
   "cell_type": "code",
   "execution_count": 13,
   "id": "7f57fee6",
   "metadata": {},
   "outputs": [
    {
     "name": "stdout",
     "output_type": "stream",
     "text": [
      "enter w for women, m  for men, else o w\n"
     ]
    }
   ],
   "source": [
    "flag = input(\"enter w for women, m  for men, else o \",)"
   ]
  },
  {
   "cell_type": "code",
   "execution_count": 14,
   "id": "2b84b776",
   "metadata": {},
   "outputs": [],
   "source": [
    "if flag=='w':\n",
    "    generate_img('feature_details_jeans.pkl','filenames_jeans.pkl',2)\n",
    "    generate_img('feature_details_sandals.pkl','filenames_sandals.pkl',2)\n",
    "    generate_img('feature_details_spec.pkl','filenames_spec.pkl',2)\n",
    "else:\n",
    "    if flag=='m':\n",
    "        generate_img('feature_details_mensjeans.pkl','filenames_mensjeans.pkl',2)\n",
    "        generate_img('feature_details_shoe.pkl','filenames_shoe.pkl',2)\n",
    "        generate_img('feature_details_spec.pkl','filenames_spec.pkl',2)\n",
    "\n",
    "    \n",
    "    \n",
    "    \n",
    "    "
   ]
  },
  {
   "cell_type": "code",
   "execution_count": null,
   "id": "44ece983",
   "metadata": {},
   "outputs": [],
   "source": []
  }
 ],
 "metadata": {
  "kernelspec": {
   "display_name": "Python 3 (ipykernel)",
   "language": "python",
   "name": "python3"
  },
  "language_info": {
   "codemirror_mode": {
    "name": "ipython",
    "version": 3
   },
   "file_extension": ".py",
   "mimetype": "text/x-python",
   "name": "python",
   "nbconvert_exporter": "python",
   "pygments_lexer": "ipython3",
   "version": "3.9.7"
  }
 },
 "nbformat": 4,
 "nbformat_minor": 5
}
